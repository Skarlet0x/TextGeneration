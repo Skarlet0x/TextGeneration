{
  "nbformat": 4,
  "nbformat_minor": 0,
  "metadata": {
    "colab": {
      "name": "TextGeneration.ipynb",
      "provenance": [],
      "collapsed_sections": [],
      "authorship_tag": "ABX9TyNeBA7YZw3VGDKuo6XL3t1J"
    },
    "kernelspec": {
      "name": "python3",
      "display_name": "Python 3"
    },
    "language_info": {
      "name": "python"
    },
    "accelerator": "GPU"
  },
  "cells": [
    {
      "cell_type": "markdown",
      "source": [
        "##IMPORTS"
      ],
      "metadata": {
        "id": "FKqFu3gG9tKJ"
      }
    },
    {
      "cell_type": "code",
      "source": [
        "import tensorflow as tf\n",
        "import pandas as pd\n",
        "import re"
      ],
      "metadata": {
        "id": "JVPgrNNPhW02"
      },
      "execution_count": 1,
      "outputs": []
    },
    {
      "cell_type": "code",
      "source": [
        "dataset = open(\"corpus.txt\", \"r\", encoding = \"utf-8-sig\").read()"
      ],
      "metadata": {
        "id": "VbUaw8ubhmh-"
      },
      "execution_count": 2,
      "outputs": []
    },
    {
      "cell_type": "code",
      "source": [
        "dataset[:100]"
      ],
      "metadata": {
        "colab": {
          "base_uri": "https://localhost:8080/",
          "height": 35
        },
        "id": "UMXoAzbCmWat",
        "outputId": "dcd8559a-5383-463d-9aaa-b769a89c73ee"
      },
      "execution_count": 3,
      "outputs": [
        {
          "output_type": "execute_result",
          "data": {
            "text/plain": [
              "'In the Devoid of Sorrow\\nThe Air and my Heart full of Luster\\nBehind the Mountains\\nThere must be a key'"
            ],
            "application/vnd.google.colaboratory.intrinsic+json": {
              "type": "string"
            }
          },
          "metadata": {},
          "execution_count": 3
        }
      ]
    },
    {
      "cell_type": "markdown",
      "source": [
        "##PREPROCESSING"
      ],
      "metadata": {
        "id": "pIa1B6h5iOn-"
      }
    },
    {
      "cell_type": "code",
      "source": [
        "def clean_text(text):\n",
        "    # lower-case\n",
        "    text = text.lower()\n",
        "\n",
        "    # clean archaisms and other special cases\n",
        "    text = re.sub(r\"'cause \", \"because\", text)\n",
        "    text = re.sub(r\"shalt\", \"shall\", text)\n",
        "    text = re.sub(r\"kaos\", \"chaos\", text)\n",
        "    text = re.sub(r\"'till\", \"until\", text)\n",
        "    text = re.sub(r\"fuckin'\", \"fucking\", text)\n",
        "    text = re.sub(r\"couldst\", \"could\", text)\n",
        "    text = re.sub(r\"sayeth\", \"says\", text)\n",
        "    text = re.sub(r\"calleth\", \"calls\", text)\n",
        "    text = re.sub(r\"&\", \" and \", text)\n",
        "    text = re.sub(r\"sathan\", \"satan\", text)\n",
        "    text = re.sub(r\"'em\", \"them\", text)\n",
        "\n",
        "    # possible parts of other words\n",
        "    text = re.sub(r\"(?<![a-zA-Z])thy(?![a-zA-Z])|thine\", \"your\", text)\n",
        "    text = re.sub(r\"thou|thee|(?<![a-zA-Z])ye(?![a-zA-Z])\", \"you\", text)\n",
        "    text = re.sub(r\"(?<![a-zA-Z])o(?![a-zA-Z])\", \"oh\", text)\n",
        "    text = re.sub(r\"(?<![a-zA-Z])'tis(?![a-zA-Z])\", \"it is\", text)\n",
        "    text = re.sub(r\"(?<![a-zA-Z])thru(?![a-zA-Z])\", \"through\", text)\n",
        "    text = re.sub(r\"(?<![a-zA-Z])ov(?![a-zA-Z])\", \"of\", text)\n",
        "    text = re.sub(r\"(?<![a-zA-Z])hast(?![a-zA-Z])\", \"have\", text)\n",
        "\n",
        "    # punctuation, except \\n and '\n",
        "    text = re.sub(r\"[^\\na-zA-Z']\", \" \", text)\n",
        "\n",
        "    # double whitespaces\n",
        "    text = re.sub(r\" +\", \" \", text)\n",
        "\n",
        "\n",
        "  \n",
        "    return text"
      ],
      "metadata": {
        "id": "MCi70KwYl1Q0"
      },
      "execution_count": 4,
      "outputs": []
    },
    {
      "cell_type": "code",
      "source": [
        "text = clean_text(dataset)"
      ],
      "metadata": {
        "id": "lPITHVWqyLr9"
      },
      "execution_count": 5,
      "outputs": []
    },
    {
      "cell_type": "code",
      "source": [
        "tokens = re.findall(r\"\\S+|\\n\", text)"
      ],
      "metadata": {
        "id": "CffHVigEyPqM"
      },
      "execution_count": 6,
      "outputs": []
    },
    {
      "cell_type": "code",
      "source": [
        "tokens[600:666]"
      ],
      "metadata": {
        "id": "nqTSI9-VmlKL",
        "colab": {
          "base_uri": "https://localhost:8080/"
        },
        "outputId": "75616038-3a40-46c8-e72f-3eeb150c597d"
      },
      "execution_count": 7,
      "outputs": [
        {
          "output_type": "execute_result",
          "data": {
            "text/plain": [
              "['we',\n",
              " 'burnt',\n",
              " 'them',\n",
              " 'in',\n",
              " 'the',\n",
              " 'purgatory',\n",
              " 'them',\n",
              " 'the',\n",
              " 'children',\n",
              " 'of',\n",
              " 'god',\n",
              " '\\n',\n",
              " 'barely',\n",
              " 'forgotten',\n",
              " 'these',\n",
              " 'times',\n",
              " 'are',\n",
              " '\\n',\n",
              " 'but',\n",
              " 'not',\n",
              " 'for',\n",
              " 'a',\n",
              " 'soul',\n",
              " 'whose',\n",
              " 'rest',\n",
              " \"hasn't\",\n",
              " 'been',\n",
              " 'found',\n",
              " '\\n',\n",
              " 'from',\n",
              " 'beyond',\n",
              " 'come',\n",
              " 'the',\n",
              " 'storms',\n",
              " '\\n',\n",
              " 'landscapes',\n",
              " 'turn',\n",
              " 'to',\n",
              " 'ash',\n",
              " 'before',\n",
              " 'my',\n",
              " 'pressured',\n",
              " 'eyes',\n",
              " '\\n',\n",
              " 'nothingness',\n",
              " 'turns',\n",
              " 'to',\n",
              " 'nothingness',\n",
              " '\\n',\n",
              " 'and',\n",
              " 'my',\n",
              " 'imagination',\n",
              " 'fades',\n",
              " 'like',\n",
              " 'dust',\n",
              " 'clouds',\n",
              " 'over',\n",
              " '\\n',\n",
              " 'this',\n",
              " 'deserted',\n",
              " 'land',\n",
              " 'feel',\n",
              " 'to',\n",
              " 'now',\n",
              " 'satyricon',\n",
              " '\\n']"
            ]
          },
          "metadata": {},
          "execution_count": 7
        }
      ]
    },
    {
      "cell_type": "markdown",
      "source": [
        "##EXPLORATORY DATA ANALYSIS"
      ],
      "metadata": {
        "id": "A5YAehfPnJzD"
      }
    },
    {
      "cell_type": "code",
      "source": [
        "# total tokens\n",
        "len(tokens)"
      ],
      "metadata": {
        "id": "eAJ1yvjQnORL",
        "colab": {
          "base_uri": "https://localhost:8080/"
        },
        "outputId": "6c900bd4-02ee-4dde-c61e-010d357afa57"
      },
      "execution_count": 8,
      "outputs": [
        {
          "output_type": "execute_result",
          "data": {
            "text/plain": [
              "391756"
            ]
          },
          "metadata": {},
          "execution_count": 8
        }
      ]
    },
    {
      "cell_type": "code",
      "source": [
        "# unique tokens\n",
        "len(set(tokens))"
      ],
      "metadata": {
        "id": "RaEZRzvanRWb",
        "colab": {
          "base_uri": "https://localhost:8080/"
        },
        "outputId": "7ba9e327-766b-46df-c3f2-8ac636420e81"
      },
      "execution_count": 9,
      "outputs": [
        {
          "output_type": "execute_result",
          "data": {
            "text/plain": [
              "17600"
            ]
          },
          "metadata": {},
          "execution_count": 9
        }
      ]
    },
    {
      "cell_type": "code",
      "source": [
        "# hapax legomena - outliers - possibly remove?"
      ],
      "metadata": {
        "id": "z-2FLMhZtLeR"
      },
      "execution_count": null,
      "outputs": []
    },
    {
      "cell_type": "code",
      "source": [
        "# vocab analysis - lemmatize"
      ],
      "metadata": {
        "id": "xN1s12ZEe1dL"
      },
      "execution_count": null,
      "outputs": []
    },
    {
      "cell_type": "markdown",
      "source": [
        "##SEQUENCES"
      ],
      "metadata": {
        "id": "t-IJfw8xj7T9"
      }
    },
    {
      "cell_type": "code",
      "source": [
        "seq_len = 50\n",
        "X_items = []\n",
        "y = []\n",
        "\n",
        "for i in range(0, len(tokens)-seq_len):\n",
        "\tX_items.append(tokens[i:i+seq_len])\n",
        "\ty.append(tokens[i+seq_len])"
      ],
      "metadata": {
        "id": "vigKecggiMiG"
      },
      "execution_count": 10,
      "outputs": []
    },
    {
      "cell_type": "code",
      "source": [
        "X = [\" \".join(item) for item in X_items]"
      ],
      "metadata": {
        "id": "aYrD5rpil1wu"
      },
      "execution_count": 11,
      "outputs": []
    },
    {
      "cell_type": "code",
      "source": [
        "X[:5]"
      ],
      "metadata": {
        "colab": {
          "base_uri": "https://localhost:8080/"
        },
        "id": "jf-LYb1SOKka",
        "outputId": "0afbb3b2-1b24-410c-8268-7f824788de06"
      },
      "execution_count": 12,
      "outputs": [
        {
          "output_type": "execute_result",
          "data": {
            "text/plain": [
              "['in the devoid of sorrow \\n the air and my heart full of luster \\n behind the mountains \\n there must be a key to the gates \\n right passed easy talk \\n we can once again walk the path of sorrow \\n let the turn of search bring you',\n",
              " 'the devoid of sorrow \\n the air and my heart full of luster \\n behind the mountains \\n there must be a key to the gates \\n right passed easy talk \\n we can once again walk the path of sorrow \\n let the turn of search bring you away',\n",
              " 'devoid of sorrow \\n the air and my heart full of luster \\n behind the mountains \\n there must be a key to the gates \\n right passed easy talk \\n we can once again walk the path of sorrow \\n let the turn of search bring you away \\n',\n",
              " 'of sorrow \\n the air and my heart full of luster \\n behind the mountains \\n there must be a key to the gates \\n right passed easy talk \\n we can once again walk the path of sorrow \\n let the turn of search bring you away \\n two',\n",
              " 'sorrow \\n the air and my heart full of luster \\n behind the mountains \\n there must be a key to the gates \\n right passed easy talk \\n we can once again walk the path of sorrow \\n let the turn of search bring you away \\n two shades']"
            ]
          },
          "metadata": {},
          "execution_count": 12
        }
      ]
    },
    {
      "cell_type": "code",
      "source": [
        "y[:5]"
      ],
      "metadata": {
        "colab": {
          "base_uri": "https://localhost:8080/"
        },
        "id": "Vrw4WO1JvFts",
        "outputId": "839d3e22-a014-4ff5-f1f9-969c058e80f0"
      },
      "execution_count": 13,
      "outputs": [
        {
          "output_type": "execute_result",
          "data": {
            "text/plain": [
              "['away', '\\n', 'two', 'shades', 'of']"
            ]
          },
          "metadata": {},
          "execution_count": 13
        }
      ]
    },
    {
      "cell_type": "code",
      "source": [
        "# TESTING THE DIMENSIONS"
      ],
      "metadata": {
        "id": "I0NslwfFk9gx"
      },
      "execution_count": null,
      "outputs": []
    },
    {
      "cell_type": "code",
      "source": [
        "x_test = [re.findall(r\"\\S+|\\n\", sequence) for sequence in X]"
      ],
      "metadata": {
        "id": "xtcp00C2heYT"
      },
      "execution_count": 14,
      "outputs": []
    },
    {
      "cell_type": "code",
      "source": [
        "lengths_x = [len(item) for item in x_test]"
      ],
      "metadata": {
        "id": "j8_uutHDhkjj"
      },
      "execution_count": 15,
      "outputs": []
    },
    {
      "cell_type": "code",
      "source": [
        "set(lengths_x)"
      ],
      "metadata": {
        "colab": {
          "base_uri": "https://localhost:8080/"
        },
        "id": "3FFulpKchsdL",
        "outputId": "76480ae1-5de4-4d0c-dbde-c337c09d1a2b"
      },
      "execution_count": 16,
      "outputs": [
        {
          "output_type": "execute_result",
          "data": {
            "text/plain": [
              "{50}"
            ]
          },
          "metadata": {},
          "execution_count": 16
        }
      ]
    },
    {
      "cell_type": "code",
      "source": [
        "y_test = [re.findall(r\"\\S+|\\n\", sequence) for sequence in y]"
      ],
      "metadata": {
        "id": "zwOF7VFoxhRn"
      },
      "execution_count": 17,
      "outputs": []
    },
    {
      "cell_type": "code",
      "source": [
        "lengths_y = [len(item) for item in y_test]"
      ],
      "metadata": {
        "id": "xcNX0NgXxj83"
      },
      "execution_count": 18,
      "outputs": []
    },
    {
      "cell_type": "code",
      "source": [
        "set(lengths_y)"
      ],
      "metadata": {
        "colab": {
          "base_uri": "https://localhost:8080/"
        },
        "id": "gh8LHkSLxnaA",
        "outputId": "92344d96-2079-45a8-b29f-db235c775c3e"
      },
      "execution_count": 19,
      "outputs": [
        {
          "output_type": "execute_result",
          "data": {
            "text/plain": [
              "{1}"
            ]
          },
          "metadata": {},
          "execution_count": 19
        }
      ]
    },
    {
      "cell_type": "markdown",
      "source": [
        "##TOKENIZATION"
      ],
      "metadata": {
        "id": "C73Ou5QQlBlR"
      }
    },
    {
      "cell_type": "code",
      "source": [
        "from keras.preprocessing.text import Tokenizer\n",
        "\n",
        "# to keep the \\n\n",
        "filters_ = '!\"#$%&()*+,-./:;<=>?@[\\\\]^_`{|}~\\t' \n",
        "tokenizer = Tokenizer(filters=filters_)\n",
        "\n",
        "tokenizer.fit_on_texts(X)"
      ],
      "metadata": {
        "id": "eo3T0ETW9OPI"
      },
      "execution_count": 20,
      "outputs": []
    },
    {
      "cell_type": "code",
      "source": [
        "X_emb = tokenizer.texts_to_sequences(X)\n",
        "y_emb = tokenizer.texts_to_sequences(y)"
      ],
      "metadata": {
        "id": "0GoEBiWxrSkI"
      },
      "execution_count": 21,
      "outputs": []
    },
    {
      "cell_type": "code",
      "source": [
        "# TESTING THE DIMENSIONS"
      ],
      "metadata": {
        "id": "gpa3yztMzKdV"
      },
      "execution_count": null,
      "outputs": []
    },
    {
      "cell_type": "code",
      "source": [
        "lengths_X_emb = [len(item) for item in X_emb]"
      ],
      "metadata": {
        "id": "BAiPdSwMyo6u"
      },
      "execution_count": 22,
      "outputs": []
    },
    {
      "cell_type": "code",
      "source": [
        "set(lengths_X_emb)"
      ],
      "metadata": {
        "colab": {
          "base_uri": "https://localhost:8080/"
        },
        "id": "w-bBmzR7yuKG",
        "outputId": "b85b94be-97d6-4bbe-c2f5-1a29c4a18a83"
      },
      "execution_count": 23,
      "outputs": [
        {
          "output_type": "execute_result",
          "data": {
            "text/plain": [
              "{50}"
            ]
          },
          "metadata": {},
          "execution_count": 23
        }
      ]
    },
    {
      "cell_type": "code",
      "source": [
        "lengths_y_emb = [len(item) for item in y_emb]"
      ],
      "metadata": {
        "id": "68TQhKUmyl12"
      },
      "execution_count": 24,
      "outputs": []
    },
    {
      "cell_type": "code",
      "source": [
        "set(lengths_y_emb)"
      ],
      "metadata": {
        "colab": {
          "base_uri": "https://localhost:8080/"
        },
        "id": "K43cpTivyxvO",
        "outputId": "a0e8e32d-1ee4-4b20-f8a0-a1d2e397f0c9"
      },
      "execution_count": 25,
      "outputs": [
        {
          "output_type": "execute_result",
          "data": {
            "text/plain": [
              "{1}"
            ]
          },
          "metadata": {},
          "execution_count": 25
        }
      ]
    },
    {
      "cell_type": "code",
      "source": [
        "from tensorflow.keras.utils import to_categorical\n",
        "\n",
        "vocab_size = len(tokenizer.word_index)\n",
        "\n",
        "y_categorical = to_categorical(y_emb, num_classes=vocab_size)"
      ],
      "metadata": {
        "id": "sTBTbCOTt7m2"
      },
      "execution_count": null,
      "outputs": []
    },
    {
      "cell_type": "markdown",
      "source": [
        "##MODEL"
      ],
      "metadata": {
        "id": "eGa5IgHNiSLt"
      }
    },
    {
      "cell_type": "code",
      "source": [
        "from keras.models import Sequential\n",
        "from keras.layers import Input, Embedding, LSTM, Dense, Dropout"
      ],
      "metadata": {
        "id": "y4ca6khquEjy"
      },
      "execution_count": null,
      "outputs": []
    },
    {
      "cell_type": "code",
      "source": [
        "INPUT_SHAPE = seq_len\n",
        "VOCABULARY_SIZE = len(tokenizer.word_index)\n",
        "EMBEDDING_DIMENSION = 50\n",
        "LSTM_UNITS = 50\n",
        "DROPOUT_RATE = 0.2"
      ],
      "metadata": {
        "id": "-DGk5w32uO0g"
      },
      "execution_count": null,
      "outputs": []
    },
    {
      "cell_type": "code",
      "source": [
        "rnn = Sequential()\n",
        "\n",
        "rnn.add(Input(INPUT_SHAPE,))\n",
        "# +1 here resolves the indexing problem during training\n",
        "rnn.add(Embedding(VOCABULARY_SIZE+1, EMBEDDING_DIMENSION))\n",
        "rnn.add(LSTM(LSTM_UNITS, return_sequences=True))\n",
        "rnn.add(Dense(VOCABULARY_SIZE, activation=\"softmax\"))"
      ],
      "metadata": {
        "id": "571HSDYJeods"
      },
      "execution_count": null,
      "outputs": []
    },
    {
      "cell_type": "code",
      "source": [
        "rnn.compile(optimizer=\"adam\", loss=\"categorical_crossentropy\", metrics=[\"accuracy\"])"
      ],
      "metadata": {
        "id": "GilsCwQceosi"
      },
      "execution_count": null,
      "outputs": []
    },
    {
      "cell_type": "code",
      "source": [
        "rnn.summary()"
      ],
      "metadata": {
        "id": "ClIhRRUvvWSB"
      },
      "execution_count": null,
      "outputs": []
    },
    {
      "cell_type": "markdown",
      "source": [
        "##MODEL TRAINING"
      ],
      "metadata": {
        "id": "VESfj6AVjYus"
      }
    },
    {
      "cell_type": "code",
      "source": [
        ""
      ],
      "metadata": {
        "id": "TzcfbFB1vW4Y"
      },
      "execution_count": null,
      "outputs": []
    },
    {
      "cell_type": "markdown",
      "source": [
        "##GENERATION"
      ],
      "metadata": {
        "id": "FvEXsjvu-HVb"
      }
    },
    {
      "cell_type": "code",
      "source": [
        ""
      ],
      "metadata": {
        "id": "FQwsMcT1epCK"
      },
      "execution_count": null,
      "outputs": []
    }
  ]
}