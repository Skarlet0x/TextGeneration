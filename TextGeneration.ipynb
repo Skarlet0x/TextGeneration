{
  "nbformat": 4,
  "nbformat_minor": 0,
  "metadata": {
    "colab": {
      "name": "TextGeneration.ipynb",
      "provenance": [],
      "collapsed_sections": [],
      "authorship_tag": "ABX9TyNNFRRjg+y47TY7YDQ9Bpp+"
    },
    "kernelspec": {
      "name": "python3",
      "display_name": "Python 3"
    },
    "language_info": {
      "name": "python"
    }
  },
  "cells": [
    {
      "cell_type": "markdown",
      "source": [
        "##IMPORTS"
      ],
      "metadata": {
        "id": "FKqFu3gG9tKJ"
      }
    },
    {
      "cell_type": "code",
      "source": [
        "import tensorflow as tf\n",
        "import numpy as np\n",
        "import re"
      ],
      "metadata": {
        "id": "JVPgrNNPhW02"
      },
      "execution_count": 1,
      "outputs": []
    },
    {
      "cell_type": "code",
      "source": [
        "dataset = open(\"corpus.txt\", \"r\", encoding = \"utf-8\").read()"
      ],
      "metadata": {
        "id": "VbUaw8ubhmh-"
      },
      "execution_count": 2,
      "outputs": []
    },
    {
      "cell_type": "code",
      "source": [
        "dataset[:100]"
      ],
      "metadata": {
        "colab": {
          "base_uri": "https://localhost:8080/",
          "height": 35
        },
        "id": "UMXoAzbCmWat",
        "outputId": "c9050415-5c37-4f68-9350-a9a7fb67df9b"
      },
      "execution_count": 3,
      "outputs": [
        {
          "output_type": "execute_result",
          "data": {
            "text/plain": [
              "'In the Devoid of Sorrow\\nThe Air and my Heart full of Luster\\nBehind the Mountains\\nThere must be a key'"
            ],
            "application/vnd.google.colaboratory.intrinsic+json": {
              "type": "string"
            }
          },
          "metadata": {},
          "execution_count": 3
        }
      ]
    },
    {
      "cell_type": "markdown",
      "source": [
        "##PREPROCESSING"
      ],
      "metadata": {
        "id": "pIa1B6h5iOn-"
      }
    },
    {
      "cell_type": "code",
      "source": [
        "# preserves the \\n character, unlike the regular .split()\n",
        "tokens = re.findall(r\"\\S+|\\n\", dataset)"
      ],
      "metadata": {
        "id": "BYOcMQ_JmjMj"
      },
      "execution_count": 14,
      "outputs": []
    },
    {
      "cell_type": "code",
      "source": [
        "tokens[:10]"
      ],
      "metadata": {
        "id": "nqTSI9-VmlKL",
        "colab": {
          "base_uri": "https://localhost:8080/"
        },
        "outputId": "95379fdb-c51c-4001-d541-6d0c37f1752d"
      },
      "execution_count": 15,
      "outputs": [
        {
          "output_type": "execute_result",
          "data": {
            "text/plain": [
              "['In', 'the', 'Devoid', 'of', 'Sorrow', '\\n', 'The', 'Air', 'and', 'my']"
            ]
          },
          "metadata": {},
          "execution_count": 15
        }
      ]
    },
    {
      "cell_type": "code",
      "source": [
        "def clean_text(text):\n",
        "    # punctuation, except ' and -\n",
        "    text = re.sub(r\"[^a-zA-Z'-]\", \" \", text)\n",
        "    # double whitespaces\n",
        "    text = re.sub(r\" +\", \" \", text)\n",
        "    # lower-case\n",
        "    text = text.lower()\n",
        "    # clean archaisms and other special cases\n",
        "    text = re.sub(r\"thy|thine\", \"your\", text)\n",
        "    text = re.sub(r\"thou|thee|ye\", \"you\", text)\n",
        "    text = re.sub(r\"'cause\", \"because\", text)\n",
        "    text = re.sub(r\"shalt\", \"shall\", text)\n",
        "    #text = re.sub(r\"\", \"\", text)\n",
        "    #ADD OTHERS\n",
        "  \n",
        "    return text"
      ],
      "metadata": {
        "id": "MCi70KwYl1Q0"
      },
      "execution_count": 54,
      "outputs": []
    },
    {
      "cell_type": "code",
      "source": [
        "text = [clean_text(token) for token in tokens]"
      ],
      "metadata": {
        "id": "3CYOII6DkWns"
      },
      "execution_count": null,
      "outputs": []
    },
    {
      "cell_type": "code",
      "source": [
        "text[:10]"
      ],
      "metadata": {
        "id": "3q0SiO4AlWm0"
      },
      "execution_count": null,
      "outputs": []
    },
    {
      "cell_type": "markdown",
      "source": [
        "##EXPLORATORY DATA ANALYSIS"
      ],
      "metadata": {
        "id": "A5YAehfPnJzD"
      }
    },
    {
      "cell_type": "code",
      "source": [
        "# total tokens\n",
        "len(tokens)"
      ],
      "metadata": {
        "id": "eAJ1yvjQnORL",
        "colab": {
          "base_uri": "https://localhost:8080/"
        },
        "outputId": "7b2b0cbe-7a22-4723-c539-e5475bb4f277"
      },
      "execution_count": 57,
      "outputs": [
        {
          "output_type": "execute_result",
          "data": {
            "text/plain": [
              "392876"
            ]
          },
          "metadata": {},
          "execution_count": 57
        }
      ]
    },
    {
      "cell_type": "code",
      "source": [
        "# unique tokens\n",
        "len(set(tokens))"
      ],
      "metadata": {
        "id": "RaEZRzvanRWb",
        "colab": {
          "base_uri": "https://localhost:8080/"
        },
        "outputId": "05974b45-30f3-46ff-b7e0-5c00c8fe02d0"
      },
      "execution_count": 58,
      "outputs": [
        {
          "output_type": "execute_result",
          "data": {
            "text/plain": [
              "30340"
            ]
          },
          "metadata": {},
          "execution_count": 58
        }
      ]
    },
    {
      "cell_type": "code",
      "source": [
        "# search for hapax legomena - possibly remove the row ?"
      ],
      "metadata": {
        "id": "2kbRnH9Ae1IS"
      },
      "execution_count": null,
      "outputs": []
    },
    {
      "cell_type": "code",
      "source": [
        "# vocab analysis - lemmatize"
      ],
      "metadata": {
        "id": "xN1s12ZEe1dL"
      },
      "execution_count": null,
      "outputs": []
    },
    {
      "cell_type": "markdown",
      "source": [
        "##SEQUENCES"
      ],
      "metadata": {
        "id": "t-IJfw8xj7T9"
      }
    },
    {
      "cell_type": "code",
      "source": [
        "seq_len = 50 + 1\n",
        "sequences = []\n",
        "\n",
        "for i in range(seq_len, len(tokens)):\n",
        "\t# select sequence of tokens\n",
        "\tseq = tokens[i-seq_len:i]\n",
        "\t# convert into a line\n",
        "\tline = \" \".join(seq)\n",
        " \n",
        "\tsequences.append(line)"
      ],
      "metadata": {
        "id": "vigKecggiMiG"
      },
      "execution_count": 59,
      "outputs": []
    },
    {
      "cell_type": "code",
      "source": [
        "sequences[:20]"
      ],
      "metadata": {
        "id": "ai8sWXtOtPCo",
        "colab": {
          "base_uri": "https://localhost:8080/"
        },
        "outputId": "1a3cb09f-7759-4bb2-d63d-72d33e5f40ba"
      },
      "execution_count": 60,
      "outputs": [
        {
          "output_type": "execute_result",
          "data": {
            "text/plain": [
              "['In the Devoid of Sorrow \\n The Air and my Heart full of Luster \\n Behind the Mountains \\n There must be a key to the Gates \\n Right passed easy Talk \\n We can once again walk the Path of Sorrow \\n Let the Turn of Search bring you away',\n",
              " 'the Devoid of Sorrow \\n The Air and my Heart full of Luster \\n Behind the Mountains \\n There must be a key to the Gates \\n Right passed easy Talk \\n We can once again walk the Path of Sorrow \\n Let the Turn of Search bring you away \\n',\n",
              " 'Devoid of Sorrow \\n The Air and my Heart full of Luster \\n Behind the Mountains \\n There must be a key to the Gates \\n Right passed easy Talk \\n We can once again walk the Path of Sorrow \\n Let the Turn of Search bring you away \\n Two',\n",
              " 'of Sorrow \\n The Air and my Heart full of Luster \\n Behind the Mountains \\n There must be a key to the Gates \\n Right passed easy Talk \\n We can once again walk the Path of Sorrow \\n Let the Turn of Search bring you away \\n Two Shades',\n",
              " 'Sorrow \\n The Air and my Heart full of Luster \\n Behind the Mountains \\n There must be a key to the Gates \\n Right passed easy Talk \\n We can once again walk the Path of Sorrow \\n Let the Turn of Search bring you away \\n Two Shades of',\n",
              " '\\n The Air and my Heart full of Luster \\n Behind the Mountains \\n There must be a key to the Gates \\n Right passed easy Talk \\n We can once again walk the Path of Sorrow \\n Let the Turn of Search bring you away \\n Two Shades of the',\n",
              " 'The Air and my Heart full of Luster \\n Behind the Mountains \\n There must be a key to the Gates \\n Right passed easy Talk \\n We can once again walk the Path of Sorrow \\n Let the Turn of Search bring you away \\n Two Shades of the Midnight',\n",
              " 'Air and my Heart full of Luster \\n Behind the Mountains \\n There must be a key to the Gates \\n Right passed easy Talk \\n We can once again walk the Path of Sorrow \\n Let the Turn of Search bring you away \\n Two Shades of the Midnight Fire',\n",
              " 'and my Heart full of Luster \\n Behind the Mountains \\n There must be a key to the Gates \\n Right passed easy Talk \\n We can once again walk the Path of Sorrow \\n Let the Turn of Search bring you away \\n Two Shades of the Midnight Fire \\n',\n",
              " 'my Heart full of Luster \\n Behind the Mountains \\n There must be a key to the Gates \\n Right passed easy Talk \\n We can once again walk the Path of Sorrow \\n Let the Turn of Search bring you away \\n Two Shades of the Midnight Fire \\n In',\n",
              " 'Heart full of Luster \\n Behind the Mountains \\n There must be a key to the Gates \\n Right passed easy Talk \\n We can once again walk the Path of Sorrow \\n Let the Turn of Search bring you away \\n Two Shades of the Midnight Fire \\n In the',\n",
              " 'full of Luster \\n Behind the Mountains \\n There must be a key to the Gates \\n Right passed easy Talk \\n We can once again walk the Path of Sorrow \\n Let the Turn of Search bring you away \\n Two Shades of the Midnight Fire \\n In the Night',\n",
              " 'of Luster \\n Behind the Mountains \\n There must be a key to the Gates \\n Right passed easy Talk \\n We can once again walk the Path of Sorrow \\n Let the Turn of Search bring you away \\n Two Shades of the Midnight Fire \\n In the Night Sky',\n",
              " 'Luster \\n Behind the Mountains \\n There must be a key to the Gates \\n Right passed easy Talk \\n We can once again walk the Path of Sorrow \\n Let the Turn of Search bring you away \\n Two Shades of the Midnight Fire \\n In the Night Sky \\n',\n",
              " '\\n Behind the Mountains \\n There must be a key to the Gates \\n Right passed easy Talk \\n We can once again walk the Path of Sorrow \\n Let the Turn of Search bring you away \\n Two Shades of the Midnight Fire \\n In the Night Sky \\n You',\n",
              " 'Behind the Mountains \\n There must be a key to the Gates \\n Right passed easy Talk \\n We can once again walk the Path of Sorrow \\n Let the Turn of Search bring you away \\n Two Shades of the Midnight Fire \\n In the Night Sky \\n You waiting',\n",
              " 'the Mountains \\n There must be a key to the Gates \\n Right passed easy Talk \\n We can once again walk the Path of Sorrow \\n Let the Turn of Search bring you away \\n Two Shades of the Midnight Fire \\n In the Night Sky \\n You waiting Child',\n",
              " 'Mountains \\n There must be a key to the Gates \\n Right passed easy Talk \\n We can once again walk the Path of Sorrow \\n Let the Turn of Search bring you away \\n Two Shades of the Midnight Fire \\n In the Night Sky \\n You waiting Child walk',\n",
              " '\\n There must be a key to the Gates \\n Right passed easy Talk \\n We can once again walk the Path of Sorrow \\n Let the Turn of Search bring you away \\n Two Shades of the Midnight Fire \\n In the Night Sky \\n You waiting Child walk with',\n",
              " 'There must be a key to the Gates \\n Right passed easy Talk \\n We can once again walk the Path of Sorrow \\n Let the Turn of Search bring you away \\n Two Shades of the Midnight Fire \\n In the Night Sky \\n You waiting Child walk with me']"
            ]
          },
          "metadata": {},
          "execution_count": 60
        }
      ]
    },
    {
      "cell_type": "code",
      "source": [
        "len(sequences)"
      ],
      "metadata": {
        "colab": {
          "base_uri": "https://localhost:8080/"
        },
        "id": "ZSpkM-QInpUS",
        "outputId": "286db45e-1550-4361-c38a-038f54ccdea3"
      },
      "execution_count": 61,
      "outputs": [
        {
          "output_type": "execute_result",
          "data": {
            "text/plain": [
              "392825"
            ]
          },
          "metadata": {},
          "execution_count": 61
        }
      ]
    },
    {
      "cell_type": "code",
      "source": [
        "# SAVE NEW DOC AS DATAFRAME"
      ],
      "metadata": {
        "id": "ZUkx_mQA9OCL"
      },
      "execution_count": null,
      "outputs": []
    },
    {
      "cell_type": "code",
      "source": [
        "# EMBEDDING"
      ],
      "metadata": {
        "id": "eo3T0ETW9OPI"
      },
      "execution_count": null,
      "outputs": []
    },
    {
      "cell_type": "markdown",
      "source": [
        "##MODEL"
      ],
      "metadata": {
        "id": "eGa5IgHNiSLt"
      }
    },
    {
      "cell_type": "code",
      "source": [
        ""
      ],
      "metadata": {
        "id": "571HSDYJeods"
      },
      "execution_count": null,
      "outputs": []
    },
    {
      "cell_type": "markdown",
      "source": [
        "##MODEL TRAINING"
      ],
      "metadata": {
        "id": "VESfj6AVjYus"
      }
    },
    {
      "cell_type": "code",
      "source": [
        ""
      ],
      "metadata": {
        "id": "GilsCwQceosi"
      },
      "execution_count": null,
      "outputs": []
    },
    {
      "cell_type": "markdown",
      "source": [
        "##GENERATION"
      ],
      "metadata": {
        "id": "FvEXsjvu-HVb"
      }
    },
    {
      "cell_type": "code",
      "source": [
        ""
      ],
      "metadata": {
        "id": "FQwsMcT1epCK"
      },
      "execution_count": null,
      "outputs": []
    }
  ]
}