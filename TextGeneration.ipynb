{
  "nbformat": 4,
  "nbformat_minor": 0,
  "metadata": {
    "colab": {
      "name": "TextGeneration.ipynb",
      "provenance": [],
      "collapsed_sections": [],
      "authorship_tag": "ABX9TyPfe5nBNp1ALetgdyxADxZJ"
    },
    "kernelspec": {
      "name": "python3",
      "display_name": "Python 3"
    },
    "language_info": {
      "name": "python"
    }
  },
  "cells": [
    {
      "cell_type": "markdown",
      "source": [
        "##IMPORTS"
      ],
      "metadata": {
        "id": "FKqFu3gG9tKJ"
      }
    },
    {
      "cell_type": "code",
      "source": [
        "import tensorflow as tf\n",
        "import numpy as np\n",
        "import pandas as pd\n",
        "import re"
      ],
      "metadata": {
        "id": "JVPgrNNPhW02"
      },
      "execution_count": 2,
      "outputs": []
    },
    {
      "cell_type": "code",
      "source": [
        "dataset = open(\"corpus.txt\", \"r\", encoding = \"utf-8-sig\").read()"
      ],
      "metadata": {
        "id": "VbUaw8ubhmh-"
      },
      "execution_count": 3,
      "outputs": []
    },
    {
      "cell_type": "code",
      "source": [
        "dataset[:100]"
      ],
      "metadata": {
        "colab": {
          "base_uri": "https://localhost:8080/",
          "height": 35
        },
        "id": "UMXoAzbCmWat",
        "outputId": "023b782b-4c43-4a3b-9c6d-7f53feacfda8"
      },
      "execution_count": 4,
      "outputs": [
        {
          "output_type": "execute_result",
          "data": {
            "text/plain": [
              "'In the Devoid of Sorrow\\nThe Air and my Heart full of Luster\\nBehind the Mountains\\nThere must be a key'"
            ],
            "application/vnd.google.colaboratory.intrinsic+json": {
              "type": "string"
            }
          },
          "metadata": {},
          "execution_count": 4
        }
      ]
    },
    {
      "cell_type": "markdown",
      "source": [
        "##PREPROCESSING"
      ],
      "metadata": {
        "id": "pIa1B6h5iOn-"
      }
    },
    {
      "cell_type": "code",
      "source": [
        "# preserves the \\n character, unlike the regular .split()\n",
        "tokens = re.findall(r\"\\S+|\\n\", dataset)"
      ],
      "metadata": {
        "id": "BYOcMQ_JmjMj"
      },
      "execution_count": 5,
      "outputs": []
    },
    {
      "cell_type": "code",
      "source": [
        "tokens[:10]"
      ],
      "metadata": {
        "id": "nqTSI9-VmlKL",
        "colab": {
          "base_uri": "https://localhost:8080/"
        },
        "outputId": "cf939efa-26a3-4311-f2d0-9ec7d768ab71"
      },
      "execution_count": 6,
      "outputs": [
        {
          "output_type": "execute_result",
          "data": {
            "text/plain": [
              "['In', 'the', 'Devoid', 'of', 'Sorrow', '\\n', 'The', 'Air', 'and', 'my']"
            ]
          },
          "metadata": {},
          "execution_count": 6
        }
      ]
    },
    {
      "cell_type": "code",
      "source": [
        "def clean_text(text):\n",
        "    # punctuation, except ' - and \\\n",
        "    text = re.sub(r\"[^\\a-zA-Z'-]\", \" \", text)\n",
        "    # double whitespaces\n",
        "    text = re.sub(r\" +\", \" \", text)\n",
        "    # lower-case\n",
        "    text = text.lower()\n",
        "    # clean archaisms and other special cases\n",
        "    text = re.sub(r\"thy|thine\", \"your\", text)\n",
        "    text = re.sub(r\"thou|thee|ye\", \"you\", text)\n",
        "    text = re.sub(r\"'cause\", \"because\", text)\n",
        "    text = re.sub(r\"shalt\", \"shall\", text)\n",
        "    #text = re.sub(r\"\", \"\", text)\n",
        "    #ADD OTHERS\n",
        "  \n",
        "    return text"
      ],
      "metadata": {
        "id": "MCi70KwYl1Q0"
      },
      "execution_count": 7,
      "outputs": []
    },
    {
      "cell_type": "code",
      "source": [
        "text = [clean_text(token) for token in tokens]"
      ],
      "metadata": {
        "id": "3CYOII6DkWns"
      },
      "execution_count": 8,
      "outputs": []
    },
    {
      "cell_type": "code",
      "source": [
        "text[:10]"
      ],
      "metadata": {
        "id": "3q0SiO4AlWm0",
        "colab": {
          "base_uri": "https://localhost:8080/"
        },
        "outputId": "bfd32ef3-b7d4-4fff-8d13-31f5d7d4037c"
      },
      "execution_count": 9,
      "outputs": [
        {
          "output_type": "execute_result",
          "data": {
            "text/plain": [
              "['in', 'the', 'devoid', 'of', 'sorrow', '\\n', 'the', 'air', 'and', 'my']"
            ]
          },
          "metadata": {},
          "execution_count": 9
        }
      ]
    },
    {
      "cell_type": "markdown",
      "source": [
        "##EXPLORATORY DATA ANALYSIS"
      ],
      "metadata": {
        "id": "A5YAehfPnJzD"
      }
    },
    {
      "cell_type": "code",
      "source": [
        "# total tokens\n",
        "len(tokens)"
      ],
      "metadata": {
        "id": "eAJ1yvjQnORL",
        "colab": {
          "base_uri": "https://localhost:8080/"
        },
        "outputId": "ea807e3e-8862-4778-81a6-0eb6fa499d12"
      },
      "execution_count": 10,
      "outputs": [
        {
          "output_type": "execute_result",
          "data": {
            "text/plain": [
              "390866"
            ]
          },
          "metadata": {},
          "execution_count": 10
        }
      ]
    },
    {
      "cell_type": "code",
      "source": [
        "# unique tokens\n",
        "len(set(tokens))"
      ],
      "metadata": {
        "id": "RaEZRzvanRWb",
        "colab": {
          "base_uri": "https://localhost:8080/"
        },
        "outputId": "4fa8da8e-4561-4001-8114-4d345d050c63"
      },
      "execution_count": 11,
      "outputs": [
        {
          "output_type": "execute_result",
          "data": {
            "text/plain": [
              "29614"
            ]
          },
          "metadata": {},
          "execution_count": 11
        }
      ]
    },
    {
      "cell_type": "code",
      "source": [
        "# hapax legomena - outliers - possibly remove?"
      ],
      "metadata": {
        "id": "z-2FLMhZtLeR"
      },
      "execution_count": 12,
      "outputs": []
    },
    {
      "cell_type": "code",
      "source": [
        "# vocab analysis - lemmatize"
      ],
      "metadata": {
        "id": "xN1s12ZEe1dL"
      },
      "execution_count": 13,
      "outputs": []
    },
    {
      "cell_type": "markdown",
      "source": [
        "##SEQUENCES"
      ],
      "metadata": {
        "id": "t-IJfw8xj7T9"
      }
    },
    {
      "cell_type": "code",
      "source": [
        "seq_len = 50\n",
        "X_items = []\n",
        "y = []\n",
        "\n",
        "for i in range(0, len(tokens)-seq_len):\n",
        "\tX_items.append(tokens[i:i+seq_len])\n",
        "\ty.append(tokens[i+seq_len])"
      ],
      "metadata": {
        "id": "vigKecggiMiG"
      },
      "execution_count": 14,
      "outputs": []
    },
    {
      "cell_type": "code",
      "source": [
        "X = [\" \".join(item) for item in X_items]"
      ],
      "metadata": {
        "id": "aYrD5rpil1wu"
      },
      "execution_count": 16,
      "outputs": []
    },
    {
      "cell_type": "code",
      "source": [
        "X[0]"
      ],
      "metadata": {
        "colab": {
          "base_uri": "https://localhost:8080/",
          "height": 70
        },
        "id": "Ya4TOdT6koM_",
        "outputId": "d8fb4fc7-eee8-46db-fbd8-375677dfaae5"
      },
      "execution_count": 17,
      "outputs": [
        {
          "output_type": "execute_result",
          "data": {
            "text/plain": [
              "'In the Devoid of Sorrow \\n The Air and my Heart full of Luster \\n Behind the Mountains \\n There must be a key to the Gates \\n Right passed easy Talk \\n We can once again walk the Path of Sorrow \\n Let the Turn of Search bring you'"
            ],
            "application/vnd.google.colaboratory.intrinsic+json": {
              "type": "string"
            }
          },
          "metadata": {},
          "execution_count": 17
        }
      ]
    },
    {
      "cell_type": "code",
      "source": [
        "y[0]"
      ],
      "metadata": {
        "colab": {
          "base_uri": "https://localhost:8080/",
          "height": 35
        },
        "id": "YuDqDUdfmHJl",
        "outputId": "aa31974f-a232-4059-dbba-ba5553d4a85f"
      },
      "execution_count": 18,
      "outputs": [
        {
          "output_type": "execute_result",
          "data": {
            "text/plain": [
              "'away'"
            ],
            "application/vnd.google.colaboratory.intrinsic+json": {
              "type": "string"
            }
          },
          "metadata": {},
          "execution_count": 18
        }
      ]
    },
    {
      "cell_type": "code",
      "source": [
        "from keras.preprocessing.text import Tokenizer\n",
        "\n",
        "tokenizer = Tokenizer()\n",
        "tokenizer.fit_on_texts(X)"
      ],
      "metadata": {
        "id": "eo3T0ETW9OPI"
      },
      "execution_count": 19,
      "outputs": []
    },
    {
      "cell_type": "code",
      "source": [
        "X_embedded = tokenizer.texts_to_sequences(X)\n",
        "y_embedded = tokenizer.texts_to_sequences(y)"
      ],
      "metadata": {
        "id": "XuXW6LGWsd7K"
      },
      "execution_count": 20,
      "outputs": []
    },
    {
      "cell_type": "code",
      "source": [
        "X_embedded[0]"
      ],
      "metadata": {
        "id": "weIMxepTtYax"
      },
      "execution_count": null,
      "outputs": []
    },
    {
      "cell_type": "code",
      "source": [
        "# CONVERT TO TENSORS\n",
        "type(X_embedded)"
      ],
      "metadata": {
        "colab": {
          "base_uri": "https://localhost:8080/"
        },
        "id": "rBZnGuqd70yK",
        "outputId": "c20baca8-c2dc-4afa-a2c1-be3ad9de63b4"
      },
      "execution_count": 48,
      "outputs": [
        {
          "output_type": "execute_result",
          "data": {
            "text/plain": [
              "list"
            ]
          },
          "metadata": {},
          "execution_count": 48
        }
      ]
    },
    {
      "cell_type": "code",
      "source": [
        "y_embedded[0]"
      ],
      "metadata": {
        "id": "EzxvwewiuXxw"
      },
      "execution_count": null,
      "outputs": []
    },
    {
      "cell_type": "code",
      "source": [
        "# CONVERT TO (CATEGORICAL) TENSORS\n",
        "type(y_embedded)"
      ],
      "metadata": {
        "colab": {
          "base_uri": "https://localhost:8080/"
        },
        "id": "-kmLGyBH71D6",
        "outputId": "c5ecd5ee-61bf-4bf3-8158-94bb0b3bac05"
      },
      "execution_count": 49,
      "outputs": [
        {
          "output_type": "execute_result",
          "data": {
            "text/plain": [
              "list"
            ]
          },
          "metadata": {},
          "execution_count": 49
        }
      ]
    },
    {
      "cell_type": "markdown",
      "source": [
        "##MODEL"
      ],
      "metadata": {
        "id": "eGa5IgHNiSLt"
      }
    },
    {
      "cell_type": "code",
      "source": [
        "from keras.models import Sequential\n",
        "from keras.layers import Input, Embedding, LSTM, Dense, Dropout"
      ],
      "metadata": {
        "id": "y4ca6khquEjy"
      },
      "execution_count": 23,
      "outputs": []
    },
    {
      "cell_type": "code",
      "source": [
        "INPUT_SHAPE = seq_len\n",
        "VOCABULARY_SIZE = len(tokenizer.word_index)\n",
        "EMBEDDING_DIMENSION = 50\n",
        "LSTM_UNITS = 50\n",
        "DROPOUT_RATE = 0.2"
      ],
      "metadata": {
        "id": "-DGk5w32uO0g"
      },
      "execution_count": 24,
      "outputs": []
    },
    {
      "cell_type": "code",
      "source": [
        "rnn = Sequential()\n",
        "\n",
        "rnn.add(Input(INPUT_SHAPE,))\n",
        "# +1 here resolves the indexing problem during training\n",
        "rnn.add(Embedding(VOCABULARY_SIZE+1, EMBEDDING_DIMENSION))\n",
        "rnn.add(LSTM(LSTM_UNITS, return_sequences=True))\n",
        "rnn.add(Dense(VOCABULARY_SIZE, activation=\"softmax\"))"
      ],
      "metadata": {
        "id": "571HSDYJeods"
      },
      "execution_count": 34,
      "outputs": []
    },
    {
      "cell_type": "code",
      "source": [
        "rnn.compile(optimizer=\"adam\", loss=\"categorical_crossentropy\", metrics=[\"accuracy\"])"
      ],
      "metadata": {
        "id": "GilsCwQceosi"
      },
      "execution_count": 35,
      "outputs": []
    },
    {
      "cell_type": "code",
      "source": [
        "rnn.summary()"
      ],
      "metadata": {
        "colab": {
          "base_uri": "https://localhost:8080/"
        },
        "id": "ClIhRRUvvWSB",
        "outputId": "c99548df-8204-4002-8db0-d1dd033449d5"
      },
      "execution_count": 36,
      "outputs": [
        {
          "output_type": "stream",
          "name": "stdout",
          "text": [
            "Model: \"sequential_1\"\n",
            "_________________________________________________________________\n",
            " Layer (type)                Output Shape              Param #   \n",
            "=================================================================\n",
            " embedding_1 (Embedding)     (None, 50, 50)            886750    \n",
            "                                                                 \n",
            " lstm_1 (LSTM)               (None, 50, 50)            20200     \n",
            "                                                                 \n",
            " dense (Dense)               (None, 50, 17734)         904434    \n",
            "                                                                 \n",
            "=================================================================\n",
            "Total params: 1,811,384\n",
            "Trainable params: 1,811,384\n",
            "Non-trainable params: 0\n",
            "_________________________________________________________________\n"
          ]
        }
      ]
    },
    {
      "cell_type": "markdown",
      "source": [
        "##MODEL TRAINING"
      ],
      "metadata": {
        "id": "VESfj6AVjYus"
      }
    },
    {
      "cell_type": "code",
      "source": [
        ""
      ],
      "metadata": {
        "id": "TzcfbFB1vW4Y"
      },
      "execution_count": 37,
      "outputs": []
    },
    {
      "cell_type": "markdown",
      "source": [
        "##GENERATION"
      ],
      "metadata": {
        "id": "FvEXsjvu-HVb"
      }
    },
    {
      "cell_type": "code",
      "source": [
        ""
      ],
      "metadata": {
        "id": "FQwsMcT1epCK"
      },
      "execution_count": null,
      "outputs": []
    }
  ]
}